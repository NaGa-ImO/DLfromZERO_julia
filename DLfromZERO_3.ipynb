{
  "nbformat": 4,
  "nbformat_minor": 0,
  "metadata": {
    "colab": {
      "name": "DLfromZERO_3.ipynb",
      "provenance": [],
      "collapsed_sections": [],
      "toc_visible": true,
      "include_colab_link": true
    },
    "kernelspec": {
      "name": "julia-1.6",
      "display_name": "julia-1.6"
    }
  },
  "cells": [
    {
      "cell_type": "markdown",
      "metadata": {
        "id": "view-in-github",
        "colab_type": "text"
      },
      "source": [
        "<a href=\"https://colab.research.google.com/github/ioriNa/DLfromZERO_julia/blob/main/DLfromZERO_3.ipynb\" target=\"_parent\"><img src=\"https://colab.research.google.com/assets/colab-badge.svg\" alt=\"Open In Colab\"/></a>"
      ]
    },
    {
      "cell_type": "code",
      "metadata": {
        "id": "CN08w8uiICa8",
        "collapsed": true
      },
      "source": [
        "!curl -sSL \"https://julialang-s3.julialang.org/bin/linux/x64/1.6/julia-1.6.1-linux-x86_64.tar.gz\" -o julia.tar.gz\n",
        "!tar -xzf julia.tar.gz -C /usr --strip-components 1\n",
        "!rm -rf julia.tar.gz*\n",
        "!julia -e 'using Pkg; pkg\"add IJulia\"'"
      ],
      "execution_count": null,
      "outputs": []
    },
    {
      "cell_type": "code",
      "metadata": {
        "id": "YfEPGslh-a-5",
        "collapsed": true
      },
      "source": [
        "!julia -e 'using Pkg; pkg\"add Plots; add PyPlot; add MLDatasets; add Images; add PyCall; add HTTP\"'"
      ],
      "execution_count": null,
      "outputs": []
    },
    {
      "cell_type": "markdown",
      "metadata": {
        "id": "sGOaN98-IZxj"
      },
      "source": [
        "上記をshift+enterで実行後、「ランタイム」->「ランタイムのタイプを変更」->「保存」を押してください。"
      ]
    },
    {
      "cell_type": "code",
      "metadata": {
        "id": "ls5Cl0hsIndc",
        "colab": {
          "base_uri": "https://localhost:8080/"
        },
        "outputId": "6eb9e461-32ed-4045-dcc6-04b17a7c6501"
      },
      "source": [
        "versioninfo()"
      ],
      "execution_count": null,
      "outputs": [
        {
          "output_type": "stream",
          "text": [
            "Julia Version 1.6.1\n",
            "Commit 6aaedecc44 (2021-04-23 05:59 UTC)\n",
            "Platform Info:\n",
            "  OS: Linux (x86_64-pc-linux-gnu)\n",
            "  CPU: Intel(R) Xeon(R) CPU @ 2.30GHz\n",
            "  WORD_SIZE: 64\n",
            "  LIBM: libopenlibm\n",
            "  LLVM: libLLVM-11.0.1 (ORCJIT, haswell)\n"
          ],
          "name": "stdout"
        }
      ]
    },
    {
      "cell_type": "markdown",
      "metadata": {
        "id": "4NaEO9gN5pri"
      },
      "source": [
        "以上はcolabでjuliaを使うための設定。\n",
        "\n",
        "以下が「ゼロから作るDeep Learning」（3章）のコード（julia）のみ"
      ]
    },
    {
      "cell_type": "markdown",
      "metadata": {
        "id": "-ugodFvHy63u"
      },
      "source": [
        "# 3章　ニューラルネットワーク"
      ]
    },
    {
      "cell_type": "markdown",
      "metadata": {
        "id": "HnlqohD_6xw1"
      },
      "source": [
        "## 3.2 活性化関数"
      ]
    },
    {
      "cell_type": "markdown",
      "metadata": {
        "id": "4Pugqr6M7TG3"
      },
      "source": [
        "### 3.2.2 ステップ関数"
      ]
    },
    {
      "cell_type": "code",
      "metadata": {
        "id": "szK0ZCRq5jkz",
        "colab": {
          "base_uri": "https://localhost:8080/"
        },
        "outputId": "28fa9037-5045-494c-d799-08ac196b464c"
      },
      "source": [
        "function step_function(x)\n",
        "    if x > 0\n",
        "        return 1\n",
        "    else \n",
        "        return 0\n",
        "    end\n",
        "end"
      ],
      "execution_count": null,
      "outputs": [
        {
          "output_type": "execute_result",
          "data": {
            "text/plain": [
              "step_function (generic function with 1 method)"
            ]
          },
          "metadata": {
            "tags": []
          },
          "execution_count": 33
        }
      ]
    },
    {
      "cell_type": "code",
      "metadata": {
        "colab": {
          "base_uri": "https://localhost:8080/"
        },
        "id": "-qUnl-gL8WHb",
        "outputId": "4ec23bc0-b47b-4543-eb2d-992899e8abb1"
      },
      "source": [
        "x = [-1, 1, 2]\n",
        "step_function.(x) \n",
        "#juliaでは”<関数名>.(<配列>)”とすることで配列を関数の引数にできるので、教科書みたいなことしなくても大丈夫"
      ],
      "execution_count": null,
      "outputs": [
        {
          "output_type": "execute_result",
          "data": {
            "text/plain": [
              "3-element Vector{Int64}:\n",
              " 0\n",
              " 1\n",
              " 1"
            ]
          },
          "metadata": {
            "tags": []
          },
          "execution_count": 34
        }
      ]
    },
    {
      "cell_type": "code",
      "metadata": {
        "colab": {
          "base_uri": "https://localhost:8080/"
        },
        "id": "GIsQRMqJBZi9",
        "outputId": "6603e8a0-70bf-4eb6-b223-42b40416fc5c"
      },
      "source": [
        "# 簡単にする\n",
        "function step_function(x)\n",
        "    return 1 * (x > 0)\n",
        "end"
      ],
      "execution_count": null,
      "outputs": [
        {
          "output_type": "execute_result",
          "data": {
            "text/plain": [
              "step_function (generic function with 1 method)"
            ]
          },
          "metadata": {
            "tags": []
          },
          "execution_count": 35
        }
      ]
    },
    {
      "cell_type": "code",
      "metadata": {
        "colab": {
          "base_uri": "https://localhost:8080/"
        },
        "id": "NBUC-vhlFsXy",
        "outputId": "8318e907-fe8e-4008-e274-0f1bc9ad95d3"
      },
      "source": [
        "# さらに簡単に定義\n",
        "step_function(x) = (x <= 0 ? 0 : 1)"
      ],
      "execution_count": null,
      "outputs": [
        {
          "output_type": "execute_result",
          "data": {
            "text/plain": [
              "step_function (generic function with 1 method)"
            ]
          },
          "metadata": {
            "tags": []
          },
          "execution_count": 36
        }
      ]
    },
    {
      "cell_type": "markdown",
      "metadata": {
        "id": "60rHsfMo9_6-"
      },
      "source": [
        "### 3.2.3 ステップ関数のグラフ"
      ]
    },
    {
      "cell_type": "code",
      "metadata": {
        "colab": {
          "base_uri": "https://localhost:8080/",
          "height": 417
        },
        "id": "kzHn9PKY84NR",
        "outputId": "4d4a3729-cc0d-40e0-86d8-3036772afca9"
      },
      "source": [
        "using Plots\n",
        "\n",
        "x = collect(-5.0:0.1:5.0)\n",
        "y = step_function.(x)\n",
        "\n",
        "pyplot()\n",
        "plot(x, y)"
      ],
      "execution_count": null,
      "outputs": [
        {
          "output_type": "execute_result",
          "data": {
            "image/png": "[encoded data removed]"
          },
          "metadata": {
            "tags": []
          },
          "execution_count": 37
        }
      ]
    },
    {
      "cell_type": "markdown",
      "metadata": {
        "id": "AmHnvlFXC2L3"
      },
      "source": [
        "### 3.2.4 シグモイド関数の実装"
      ]
    },
    {
      "cell_type": "code",
      "metadata": {
        "colab": {
          "base_uri": "https://localhost:8080/"
        },
        "id": "hwlgRybKCe3y",
        "outputId": "091589f7-edb3-4ed9-aead-48eff382e56b"
      },
      "source": [
        "sigmoid(x) = 1/(1 + exp(-x))"
      ],
      "execution_count": null,
      "outputs": [
        {
          "output_type": "execute_result",
          "data": {
            "text/plain": [
              "sigmoid (generic function with 1 method)"
            ]
          },
          "metadata": {
            "tags": []
          },
          "execution_count": 38
        }
      ]
    },
    {
      "cell_type": "code",
      "metadata": {
        "colab": {
          "base_uri": "https://localhost:8080/",
          "height": 417
        },
        "id": "D1LgppYqDV1R",
        "outputId": "0db79972-95d6-4bf2-a8c3-67bbde2ad7b5"
      },
      "source": [
        "plot(sigmoid, ylims = (-0.1, 1.1)) #関数がわかればplotできる"
      ],
      "execution_count": null,
      "outputs": [
        {
          "output_type": "execute_result",
          "data": {
            "image/png": "[encoded data removed]"
          },
          "metadata": {
            "tags": []
          },
          "execution_count": 39
        }
      ]
    },
    {
      "cell_type": "markdown",
      "metadata": {
        "id": "keDXDzncEKgf"
      },
      "source": [
        "### 3.2.5 シグモイド関数とステップ関数の比較"
      ]
    },
    {
      "cell_type": "code",
      "metadata": {
        "colab": {
          "base_uri": "https://localhost:8080/",
          "height": 417
        },
        "id": "jYoYMy4GDrOw",
        "outputId": "5d08f7a6-b66f-4c2d-ec28-6dbd6f9761e8"
      },
      "source": [
        "plot(step_function, label = \"step\")\n",
        "plot!(sigmoid, ylims = (-0.1, 1.1), label = \"sigmoid\") #\"plot!(<function>)\"で前のプロットに重ねてプロットできる"
      ],
      "execution_count": null,
      "outputs": [
        {
          "output_type": "execute_result",
          "data": {
            "image/png": "[encoded data removed]"
          },
          "metadata": {
            "tags": []
          },
          "execution_count": 40
        }
      ]
    },
    {
      "cell_type": "markdown",
      "metadata": {
        "id": "dqNTUnRVFME4"
      },
      "source": [
        "### 3.2.7 ReLU関数"
      ]
    },
    {
      "cell_type": "code",
      "metadata": {
        "colab": {
          "base_uri": "https://localhost:8080/"
        },
        "id": "DYjVn86iFJ1k",
        "outputId": "59453f61-4097-4495-dc4e-f696829798f8"
      },
      "source": [
        "relu(x) = (x <= 0 ? 0 : x)"
      ],
      "execution_count": null,
      "outputs": [
        {
          "output_type": "execute_result",
          "data": {
            "text/plain": [
              "relu (generic function with 1 method)"
            ]
          },
          "metadata": {
            "tags": []
          },
          "execution_count": 41
        }
      ]
    },
    {
      "cell_type": "code",
      "metadata": {
        "colab": {
          "base_uri": "https://localhost:8080/",
          "height": 417
        },
        "id": "XfgaHW2cEk9r",
        "outputId": "0973485b-59a4-40f8-9e94-f25801fe41e5"
      },
      "source": [
        "plot(relu)"
      ],
      "execution_count": null,
      "outputs": [
        {
          "output_type": "execute_result",
          "data": {
            "image/png": "[encoded data removed]"
          },
          "metadata": {
            "tags": []
          },
          "execution_count": 42
        }
      ]
    },
    {
      "cell_type": "markdown",
      "metadata": {
        "id": "HHRNMXcMHupz"
      },
      "source": [
        "## 3.3 多次元配列の計算"
      ]
    },
    {
      "cell_type": "markdown",
      "metadata": {
        "id": "NfeI5hpIH1oh"
      },
      "source": [
        "### 3.3.1 多次元配列"
      ]
    },
    {
      "cell_type": "code",
      "metadata": {
        "colab": {
          "base_uri": "https://localhost:8080/"
        },
        "id": "6r1d54kRHdlt",
        "outputId": "7483081c-0445-4ab6-b29b-ad3a2cc522df"
      },
      "source": [
        "A = [1, 2, 3, 4]　# 本と同じ結果を返す書き方をする(列ベクトル = N*1行列)\n",
        "\n",
        "println(A)\n",
        "println(ndims(A))\n",
        "println(size(A))\n",
        "println(size(A, 1)) # juliaのスタートは1から"
      ],
      "execution_count": null,
      "outputs": [
        {
          "output_type": "stream",
          "text": [
            "[1, 2, 3, 4]\n",
            "1\n",
            "(4,)\n",
            "4\n"
          ],
          "name": "stdout"
        }
      ]
    },
    {
      "cell_type": "code",
      "metadata": {
        "colab": {
          "base_uri": "https://localhost:8080/"
        },
        "id": "TdNPefJcLNoB",
        "outputId": "62b90963-0f02-45f5-d9d6-66f82630e6a1"
      },
      "source": [
        "A = [1 2 3 4]　#行ベクトル(= １＊Nの行列)なので注意してね\n",
        "\n",
        "println(A)\n",
        "println(ndims(A)) \n",
        "println(size(A))"
      ],
      "execution_count": null,
      "outputs": [
        {
          "output_type": "stream",
          "text": [
            "[1 2 3 4]\n",
            "2\n",
            "(1, 4)\n"
          ],
          "name": "stdout"
        }
      ]
    },
    {
      "cell_type": "code",
      "metadata": {
        "colab": {
          "base_uri": "https://localhost:8080/"
        },
        "id": "cf5aA2A3Ik7v",
        "outputId": "ddc23e62-ada2-44a2-c892-306873d5731b"
      },
      "source": [
        "B = [1 2; 3 4; 5 6]\n",
        "\n",
        "println(B)\n",
        "println(ndims(B))\n",
        "println(size(B))"
      ],
      "execution_count": null,
      "outputs": [
        {
          "output_type": "stream",
          "text": [
            "[1 2; 3 4; 5 6]\n",
            "2\n",
            "(3, 2)\n"
          ],
          "name": "stdout"
        }
      ]
    },
    {
      "cell_type": "markdown",
      "metadata": {
        "id": "VXhGquBrLy4b"
      },
      "source": [
        "### 3.3.2 行列の積"
      ]
    },
    {
      "cell_type": "code",
      "metadata": {
        "colab": {
          "base_uri": "https://localhost:8080/"
        },
        "id": "-4EeuVxDJaKq",
        "outputId": "feaf7bec-b229-4ea0-f35b-76ef3e2e93c0"
      },
      "source": [
        "A = [1 2; 3 4]\n",
        "println(size(A))\n",
        "\n",
        "B = [5 6; 7 8]\n",
        "println(size(B))\n",
        "\n",
        "println(A*B) #行列の積"
      ],
      "execution_count": null,
      "outputs": [
        {
          "output_type": "stream",
          "text": [
            "(2, 2)\n",
            "(2, 2)\n",
            "[19 22; 43 50]\n"
          ],
          "name": "stdout"
        }
      ]
    },
    {
      "cell_type": "code",
      "metadata": {
        "colab": {
          "base_uri": "https://localhost:8080/"
        },
        "id": "no8odm9AMJw9",
        "outputId": "e04982fa-2a2d-46fd-dea7-fccc27782b81"
      },
      "source": [
        "A = [1 2 3; 4 5 6]\n",
        "println(size(A))\n",
        "\n",
        "B = [1 2; 3 4; 5 6]\n",
        "println(size(B))\n",
        "\n",
        "println(A*B) #行列の積"
      ],
      "execution_count": null,
      "outputs": [
        {
          "output_type": "stream",
          "text": [
            "(2, 3)\n",
            "(3, 2)\n",
            "[22 28; 49 64]\n"
          ],
          "name": "stdout"
        }
      ]
    },
    {
      "cell_type": "code",
      "metadata": {
        "colab": {
          "base_uri": "https://localhost:8080/",
          "height": 419
        },
        "id": "CzbOl8yBMn6_",
        "outputId": "ccf5faf5-c866-4392-d3bf-6e7dea4c0184"
      },
      "source": [
        "C = [1 2; 3 4]\n",
        "println(size(C))\n",
        "\n",
        "println(size(A))\n",
        "\n",
        "A*C #ちゃんと（DimensionMismatch）とエラーが出る。"
      ],
      "execution_count": null,
      "outputs": [
        {
          "output_type": "stream",
          "text": [
            "(2, 2)\n",
            "(2, 3)\n"
          ],
          "name": "stdout"
        },
        {
          "output_type": "error",
          "ename": "LoadError",
          "evalue": "ignored",
          "traceback": [
            "DimensionMismatch(\"matrix A has dimensions (2,3), matrix B has dimensions (2,2)\")",
            "",
            "Stacktrace:",
            " [1] _generic_matmatmul!(C::Matrix{Int64}, tA::Char, tB::Char, A::Matrix{Int64}, B::Matrix{Int64}, _add::LinearAlgebra.MulAddMul{true, true, Bool, Bool})",
            "   @ LinearAlgebra /buildworker/worker/package_linux64/build/usr/share/julia/stdlib/v1.6/LinearAlgebra/src/matmul.jl:814",
            " [2] generic_matmatmul!(C::Matrix{Int64}, tA::Char, tB::Char, A::Matrix{Int64}, B::Matrix{Int64}, _add::LinearAlgebra.MulAddMul{true, true, Bool, Bool})",
            "   @ LinearAlgebra /buildworker/worker/package_linux64/build/usr/share/julia/stdlib/v1.6/LinearAlgebra/src/matmul.jl:802",
            " [3] mul!",
            "   @ /buildworker/worker/package_linux64/build/usr/share/julia/stdlib/v1.6/LinearAlgebra/src/matmul.jl:302 [inlined]",
            " [4] mul!",
            "   @ /buildworker/worker/package_linux64/build/usr/share/julia/stdlib/v1.6/LinearAlgebra/src/matmul.jl:275 [inlined]",
            " [5] *(A::Matrix{Int64}, B::Matrix{Int64})",
            "   @ LinearAlgebra /buildworker/worker/package_linux64/build/usr/share/julia/stdlib/v1.6/LinearAlgebra/src/matmul.jl:153",
            " [6] top-level scope",
            "   @ In[48]:6",
            " [7] eval",
            "   @ ./boot.jl:360 [inlined]",
            " [8] include_string(mapexpr::typeof(REPL.softscope), mod::Module, code::String, filename::String)",
            "   @ Base ./loading.jl:1094"
          ]
        }
      ]
    },
    {
      "cell_type": "code",
      "metadata": {
        "colab": {
          "base_uri": "https://localhost:8080/"
        },
        "id": "Z8hA90VkM7RB",
        "outputId": "a94bd743-48d3-43b7-de5c-1db0b5125cbc"
      },
      "source": [
        "A = [1 2; 3 4; 5 6]\n",
        "println(size(A))\n",
        "\n",
        "B = [7, 8]\n",
        "println(size(B))\n",
        "\n",
        "println(A*B) #行列の積"
      ],
      "execution_count": null,
      "outputs": [
        {
          "output_type": "stream",
          "text": [
            "(3, 2)\n",
            "(2,)\n",
            "[23, 53, 83]\n"
          ],
          "name": "stdout"
        }
      ]
    },
    {
      "cell_type": "markdown",
      "metadata": {
        "id": "W3W6vKMdOPod"
      },
      "source": [
        "### 3.3.3 ニューラルネットワークの行列の積"
      ]
    },
    {
      "cell_type": "code",
      "metadata": {
        "colab": {
          "base_uri": "https://localhost:8080/"
        },
        "id": "U1HdFQ2ONal1",
        "outputId": "c623f129-ddb4-479f-eb0e-028eac01d6c3"
      },
      "source": [
        "X = [1 2] #行ベクトルであることに注意。列ベクトルだと次元不一致が起こる\n",
        "println(size(X))\n",
        "\n",
        "W = [1 3 5; 2 4 6]\n",
        "println(W)\n",
        "println(size(W))\n",
        "\n",
        "Y = X*W\n",
        "print(Y)"
      ],
      "execution_count": null,
      "outputs": [
        {
          "output_type": "stream",
          "text": [
            "(1, 2)\n",
            "[1 3 5; 2 4 6]\n",
            "(2, 3)\n",
            "[5 11 17]"
          ],
          "name": "stdout"
        }
      ]
    },
    {
      "cell_type": "markdown",
      "metadata": {
        "id": "BD5VsaXTPxfA"
      },
      "source": [
        "## 3.4 3層ニューラルネットワークの実装"
      ]
    },
    {
      "cell_type": "markdown",
      "metadata": {
        "id": "tLoC0_dcoFCh"
      },
      "source": [
        "### 3.4.2 各層における信号伝達の実装"
      ]
    },
    {
      "cell_type": "code",
      "metadata": {
        "id": "mu7SY2lHPxC4",
        "colab": {
          "base_uri": "https://localhost:8080/"
        },
        "outputId": "ae7379ea-a7ae-4712-c159-185db1464869"
      },
      "source": [
        "X = [1.0 0.5]\n",
        "W1 = [0.1 0.3 0.5; 0.2 0.4 0.6]\n",
        "B1 = [0.1 0.2 0.3]\n",
        "println(size(W1))\n",
        "println(size(X))\n",
        "println(size(B1))\n",
        "\n",
        "A1 = X*W1 + B1\n",
        "Z1 = sigmoid.(A1)\n",
        "println(A1)\n",
        "println(Z1)"
      ],
      "execution_count": null,
      "outputs": [
        {
          "output_type": "stream",
          "text": [
            "(2, 3)\n",
            "(1, 2)\n",
            "(1, 3)\n",
            "[0.30000000000000004 0.7 1.1]\n",
            "[0.574442516811659 0.6681877721681662 0.7502601055951177]\n"
          ],
          "name": "stdout"
        }
      ]
    },
    {
      "cell_type": "code",
      "metadata": {
        "colab": {
          "base_uri": "https://localhost:8080/"
        },
        "id": "MZs-03hnudT5",
        "outputId": "8e692e40-4b98-4e27-b342-beb4b33dba13"
      },
      "source": [
        "W2 = [0.1 0.4; 0.2 0.5; 0.3 0.6]\n",
        "B2 = [0.1 0.2]\n",
        "println(size(W2))\n",
        "println(size(Z1))\n",
        "println(size(B2))\n",
        "\n",
        "A2 = Z1*W2 + B2\n",
        "Z2 = sigmoid.(A2)\n",
        "println(A2)\n",
        "println(Z2)"
      ],
      "execution_count": null,
      "outputs": [
        {
          "output_type": "stream",
          "text": [
            "(3, 2)\n",
            "(1, 3)\n",
            "(1, 2)\n",
            "[0.5161598377933344 1.2140269561658172]\n",
            "[0.6262493703990729 0.7710106968556123]\n"
          ],
          "name": "stdout"
        }
      ]
    },
    {
      "cell_type": "code",
      "metadata": {
        "colab": {
          "base_uri": "https://localhost:8080/"
        },
        "id": "EwoPvOJ-yUAe",
        "outputId": "f9e8d7e2-c7b4-4ba2-eb6c-2cdec8843efe"
      },
      "source": [
        "identity_function(x) = x\n",
        "\n",
        "W3 = [0.1 0.3; 0.2 0.4]\n",
        "B3 = [0.1 0.2]\n",
        "\n",
        "A3 = Z2*W3 + B3\n",
        "Y = identity_function.(A3)"
      ],
      "execution_count": null,
      "outputs": [
        {
          "output_type": "execute_result",
          "data": {
            "text/plain": [
              "1×2 Matrix{Float64}:\n",
              " 0.316827  0.696279"
            ]
          },
          "metadata": {
            "tags": []
          },
          "execution_count": 53
        }
      ]
    },
    {
      "cell_type": "markdown",
      "metadata": {
        "id": "u_s5Ntdy0BUU"
      },
      "source": [
        "### 3.4.3 実装のまとめ"
      ]
    },
    {
      "cell_type": "code",
      "metadata": {
        "colab": {
          "base_uri": "https://localhost:8080/"
        },
        "id": "n2gEelqqzeC-",
        "outputId": "95a2051d-5859-4abc-ae23-b84a5ab530cc"
      },
      "source": [
        "function init_network()\n",
        "    network = Dict()\n",
        "    network[\"W1\"] = [0.1 0.3 0.5; 0.2 0.4 0.6]\n",
        "    network[\"b1\"] = [0.1 0.2 0.3]\n",
        "    network[\"W2\"] = [0.1 0.4; 0.2 0.5; 0.3 0.6]\n",
        "    network[\"b2\"] = [0.1 0.2]\n",
        "    network[\"W3\"] = [0.1 0.3; 0.2 0.4]\n",
        "    network[\"b3\"] = [0.1 0.2]\n",
        "\n",
        "    return network\n",
        "end\n",
        "\n",
        "function forward(network, x)\n",
        "    W1, W2, W3 = network[\"W1\"], network[\"W2\"], network[\"W3\"]\n",
        "    b1, b2, b3 = network[\"b1\"], network[\"b2\"], network[\"b3\"]\n",
        "\n",
        "    a1 = x*W1 + b1\n",
        "    z1 = sigmoid.(a1)\n",
        "    a2 = z1*W2 + b2\n",
        "    z2 = sigmoid.(a2)\n",
        "    a3 = z2*W3 + b3\n",
        "    y = identity_function.(a3)\n",
        "\n",
        "    return y\n",
        "end"
      ],
      "execution_count": null,
      "outputs": [
        {
          "output_type": "execute_result",
          "data": {
            "text/plain": [
              "forward (generic function with 1 method)"
            ]
          },
          "metadata": {
            "tags": []
          },
          "execution_count": 54
        }
      ]
    },
    {
      "cell_type": "code",
      "metadata": {
        "colab": {
          "base_uri": "https://localhost:8080/"
        },
        "id": "JtoNN9dV0l6u",
        "outputId": "78e7b0a3-24e7-42d4-ea5b-4688bddde32b"
      },
      "source": [
        "network = init_network()\n",
        "x = [1.0 0.5]\n",
        "\n",
        "y = forward(network, x)\n",
        "println(y)"
      ],
      "execution_count": null,
      "outputs": [
        {
          "output_type": "stream",
          "text": [
            "[0.3168270764110298 0.6962790898619668]\n"
          ],
          "name": "stdout"
        }
      ]
    },
    {
      "cell_type": "markdown",
      "metadata": {
        "id": "KRCx1En66pb2"
      },
      "source": [
        "## 3.5 出力層の設計"
      ]
    },
    {
      "cell_type": "markdown",
      "metadata": {
        "id": "F9IWQvkW6vWg"
      },
      "source": [
        "### 3.5.1 恒等関数とソフトマックス関数"
      ]
    },
    {
      "cell_type": "code",
      "metadata": {
        "colab": {
          "base_uri": "https://localhost:8080/"
        },
        "id": "rcflQwPP1Ng3",
        "outputId": "4943bdcb-cb1d-4dc9-9b32-5bb46f07b1a6"
      },
      "source": [
        "a = [0.3 2.9 4.0]\n",
        "\n",
        "exp_a = exp.(a)\n",
        "println(exp_a)\n",
        "\n",
        "sum_exp_a = sum(exp_a)\n",
        "println(sum_exp_a)\n",
        "\n",
        "y = exp_a/sum_exp_a\n",
        "println(y)"
      ],
      "execution_count": null,
      "outputs": [
        {
          "output_type": "stream",
          "text": [
            "[1.3498588075760032 18.17414536944306 54.598150033144236]\n",
            "74.1221542101633\n",
            "[0.018211273295547534 0.2451918129350739 0.7365969137693785]\n"
          ],
          "name": "stdout"
        }
      ]
    },
    {
      "cell_type": "code",
      "metadata": {
        "colab": {
          "base_uri": "https://localhost:8080/"
        },
        "id": "UT32TGua7OEZ",
        "outputId": "efce44be-4173-42c3-ea21-5b2b23a15c58"
      },
      "source": [
        "softmax(a) = exp.(a)/sum(exp.(a))"
      ],
      "execution_count": null,
      "outputs": [
        {
          "output_type": "execute_result",
          "data": {
            "text/plain": [
              "softmax (generic function with 1 method)"
            ]
          },
          "metadata": {
            "tags": []
          },
          "execution_count": 57
        }
      ]
    },
    {
      "cell_type": "markdown",
      "metadata": {
        "id": "v0kxIysv8N_X"
      },
      "source": [
        "### 3.5.2 ソフトマックス関数の実装上の注意"
      ]
    },
    {
      "cell_type": "code",
      "metadata": {
        "colab": {
          "base_uri": "https://localhost:8080/"
        },
        "id": "AjpSvEPN8Csw",
        "outputId": "8d12c021-d0bc-4dcf-f260-9f4e24cbef4b"
      },
      "source": [
        "a = [1010 1000 990]\n",
        "exp.(a)/sum(exp.(a))"
      ],
      "execution_count": null,
      "outputs": [
        {
          "output_type": "execute_result",
          "data": {
            "text/plain": [
              "1×3 Matrix{Float64}:\n",
              " NaN  NaN  NaN"
            ]
          },
          "metadata": {
            "tags": []
          },
          "execution_count": 58
        }
      ]
    },
    {
      "cell_type": "code",
      "metadata": {
        "colab": {
          "base_uri": "https://localhost:8080/"
        },
        "id": "ixewPqZh80_0",
        "outputId": "f5c92c30-010d-449c-b2a1-31c61bcab42f"
      },
      "source": [
        "c = maximum(a)\n",
        "println(a.- c)\n",
        "\n",
        "exp.(a.- c)/sum(exp.(a.- c))"
      ],
      "execution_count": null,
      "outputs": [
        {
          "output_type": "stream",
          "text": [
            "[0 -10 -20]\n"
          ],
          "name": "stdout"
        },
        {
          "output_type": "execute_result",
          "data": {
            "text/plain": [
              "1×3 Matrix{Float64}:\n",
              " 0.999955  4.53979e-5  2.06106e-9"
            ]
          },
          "metadata": {
            "tags": []
          },
          "execution_count": 59
        }
      ]
    },
    {
      "cell_type": "code",
      "metadata": {
        "colab": {
          "base_uri": "https://localhost:8080/"
        },
        "id": "9sM3fi5-84s_",
        "outputId": "752dfa7d-1168-495e-f6a5-ce194863d152"
      },
      "source": [
        "softmax(a) = exp.(a.- maximum(a))/sum(exp.(a.- maximum(a)))"
      ],
      "execution_count": null,
      "outputs": [
        {
          "output_type": "execute_result",
          "data": {
            "text/plain": [
              "softmax (generic function with 1 method)"
            ]
          },
          "metadata": {
            "tags": []
          },
          "execution_count": 60
        }
      ]
    },
    {
      "cell_type": "markdown",
      "metadata": {
        "id": "aqbGjKJ1-O2b"
      },
      "source": [
        "### 3.5.3 ソフトマックス関数の特徴"
      ]
    },
    {
      "cell_type": "code",
      "metadata": {
        "colab": {
          "base_uri": "https://localhost:8080/"
        },
        "id": "NT6b-v47-Kcc",
        "outputId": "7e5d0fe3-c381-431e-c2a0-84199ad209dc"
      },
      "source": [
        "a = [0.3 2.9 4.0]\n",
        "println(size(a))\n",
        "y = softmax(a)\n",
        "println(y)\n",
        "\n",
        "println(sum(y))"
      ],
      "execution_count": null,
      "outputs": [
        {
          "output_type": "stream",
          "text": [
            "(1, 3)\n",
            "[0.01821127329554753 0.24519181293507392 0.7365969137693786]\n",
            "1.0\n"
          ],
          "name": "stdout"
        }
      ]
    },
    {
      "cell_type": "markdown",
      "metadata": {
        "id": "8MYeeY3--1zG"
      },
      "source": [
        "## 3.6 手書き数字認識"
      ]
    },
    {
      "cell_type": "markdown",
      "metadata": {
        "id": "u52zwDdP-7Sb"
      },
      "source": [
        "### 3.6.1 MNISTデータセット"
      ]
    },
    {
      "cell_type": "code",
      "metadata": {
        "colab": {
          "base_uri": "https://localhost:8080/"
        },
        "id": "KADAbNFw-n0_",
        "outputId": "91af531e-d319-4b49-86aa-cc01dd3a9a91"
      },
      "source": [
        "# MLDatasetsパッケージのMNISTSデータセットを使う\n",
        "using MLDatasets\n",
        "\n",
        "# 訓練用画像データと教師データをロード\n",
        "## train_x: 特徴量＝<画像データ｜28x28 グレースケール画像 60,000枚>{28x28x60000 Array{UInt8, 3}}\n",
        "## train_y: 目的変数＝<数値クラス｜[0..9]の数値 60,000個>{60000 Array{Int, 1}}\n",
        "train_x, train_t = MNIST.traindata()\n",
        "\n",
        "# test用画像データと答えデータをロード\n",
        "## train_x: 特徴量＝<画像データ｜28x28 グレースケール画像 10,000枚>{28x28x10000 Array{UInt8, 3}}\n",
        "## train_y: 目的変数＝<数値クラス｜[0..9]の数値 10,000個>{10000 Array{Int, 1}}\n",
        "test_x,  test_t  = MNIST.testdata()\n",
        "\n",
        "println(size(train_x))\n",
        "println(size(train_t))\n",
        "println(size(test_x))\n",
        "println(size(test_t))"
      ],
      "execution_count": null,
      "outputs": [
        {
          "output_type": "stream",
          "text": [
            "This program has requested access to the data dependency MNIST.\n",
            "which is not currently installed. It can be installed automatically, and you will not see this message again.\n",
            "\n",
            "Dataset: THE MNIST DATABASE of handwritten digits\n",
            "Authors: Yann LeCun, Corinna Cortes, Christopher J.C. Burges\n",
            "Website: http://yann.lecun.com/exdb/mnist/\n",
            "\n",
            "[LeCun et al., 1998a]\n",
            "    Y. LeCun, L. Bottou, Y. Bengio, and P. Haffner.\n",
            "    \"Gradient-based learning applied to document recognition.\"\n",
            "    Proceedings of the IEEE, 86(11):2278-2324, November 1998\n",
            "\n",
            "The files are available for download at the offical\n",
            "website linked above. Note that using the data\n",
            "responsibly and respecting copyright remains your\n",
            "responsibility. The authors of MNIST aren't really\n",
            "explicit about any terms of use, so please read the\n",
            "website to make sure you want to download the\n",
            "dataset.\n",
            "\n",
            "\n",
            "\n",
            "Do you want to download the dataset from [\"https://ossci-datasets.s3.amazonaws.com/mnist/train-images-idx3-ubyte.gz\", \"https://ossci-datasets.s3.amazonaws.com/mnist/train-labels-idx1-ubyte.gz\", \"https://ossci-datasets.s3.amazonaws.com/mnist/t10k-images-idx3-ubyte.gz\", \"https://ossci-datasets.s3.amazonaws.com/mnist/t10k-labels-idx1-ubyte.gz\"] to \"/root/.julia/datadeps/MNIST\"?\n",
            "[y/n]\n",
            "stdin> y\n",
            "(28, 28, 60000)\n",
            "(60000,)\n",
            "(28, 28, 10000)\n",
            "(10000,)\n"
          ],
          "name": "stdout"
        }
      ]
    },
    {
      "cell_type": "code",
      "metadata": {
        "colab": {
          "base_uri": "https://localhost:8080/",
          "height": 129
        },
        "id": "cZQf2bLHgY6v",
        "outputId": "2e1ca3c7-2352-489e-e659-eb01420e5c73"
      },
      "source": [
        "# 一枚目の画像データ(28x28)をプロット\n",
        "## 縦軸と横軸が反転しているため転置行列\"<行列>’\"を渡す\n",
        "using Images\n",
        "#img = convert(Array{RGB{Float32},2},train_x[:, :, 1]')\n",
        "img =  MNIST.convert2image(train_x[:, :, 1])"
      ],
      "execution_count": null,
      "outputs": [
        {
          "output_type": "execute_result",
          "data": {
            "image/png": "[encoded data removed]",
            "text/plain": [
              "28×28 reinterpret(reshape, Gray{N0f8}, ::Array{N0f8,2}) with eltype Gray{N0f8}:\n",
              " Gray{N0f8}(0.0)  Gray{N0f8}(0.0)  …  Gray{N0f8}(0.0)  Gray{N0f8}(0.0)\n",
              " Gray{N0f8}(0.0)  Gray{N0f8}(0.0)     Gray{N0f8}(0.0)  Gray{N0f8}(0.0)\n",
              " Gray{N0f8}(0.0)  Gray{N0f8}(0.0)     Gray{N0f8}(0.0)  Gray{N0f8}(0.0)\n",
              " Gray{N0f8}(0.0)  Gray{N0f8}(0.0)     Gray{N0f8}(0.0)  Gray{N0f8}(0.0)\n",
              " Gray{N0f8}(0.0)  Gray{N0f8}(0.0)     Gray{N0f8}(0.0)  Gray{N0f8}(0.0)\n",
              " Gray{N0f8}(0.0)  Gray{N0f8}(0.0)  …  Gray{N0f8}(0.0)  Gray{N0f8}(0.0)\n",
              " Gray{N0f8}(0.0)  Gray{N0f8}(0.0)     Gray{N0f8}(0.0)  Gray{N0f8}(0.0)\n",
              " Gray{N0f8}(0.0)  Gray{N0f8}(0.0)     Gray{N0f8}(0.0)  Gray{N0f8}(0.0)\n",
              " Gray{N0f8}(0.0)  Gray{N0f8}(0.0)     Gray{N0f8}(0.0)  Gray{N0f8}(0.0)\n",
              " Gray{N0f8}(0.0)  Gray{N0f8}(0.0)     Gray{N0f8}(0.0)  Gray{N0f8}(0.0)\n",
              " Gray{N0f8}(0.0)  Gray{N0f8}(0.0)  …  Gray{N0f8}(0.0)  Gray{N0f8}(0.0)\n",
              " Gray{N0f8}(0.0)  Gray{N0f8}(0.0)     Gray{N0f8}(0.0)  Gray{N0f8}(0.0)\n",
              " Gray{N0f8}(0.0)  Gray{N0f8}(0.0)     Gray{N0f8}(0.0)  Gray{N0f8}(0.0)\n",
              " ⋮                                 ⋱                   \n",
              " Gray{N0f8}(0.0)  Gray{N0f8}(0.0)     Gray{N0f8}(0.0)  Gray{N0f8}(0.0)\n",
              " Gray{N0f8}(0.0)  Gray{N0f8}(0.0)     Gray{N0f8}(0.0)  Gray{N0f8}(0.0)\n",
              " Gray{N0f8}(0.0)  Gray{N0f8}(0.0)     Gray{N0f8}(0.0)  Gray{N0f8}(0.0)\n",
              " Gray{N0f8}(0.0)  Gray{N0f8}(0.0)     Gray{N0f8}(0.0)  Gray{N0f8}(0.0)\n",
              " Gray{N0f8}(0.0)  Gray{N0f8}(0.0)  …  Gray{N0f8}(0.0)  Gray{N0f8}(0.0)\n",
              " Gray{N0f8}(0.0)  Gray{N0f8}(0.0)     Gray{N0f8}(0.0)  Gray{N0f8}(0.0)\n",
              " Gray{N0f8}(0.0)  Gray{N0f8}(0.0)     Gray{N0f8}(0.0)  Gray{N0f8}(0.0)\n",
              " Gray{N0f8}(0.0)  Gray{N0f8}(0.0)     Gray{N0f8}(0.0)  Gray{N0f8}(0.0)\n",
              " Gray{N0f8}(0.0)  Gray{N0f8}(0.0)     Gray{N0f8}(0.0)  Gray{N0f8}(0.0)\n",
              " Gray{N0f8}(0.0)  Gray{N0f8}(0.0)  …  Gray{N0f8}(0.0)  Gray{N0f8}(0.0)\n",
              " Gray{N0f8}(0.0)  Gray{N0f8}(0.0)     Gray{N0f8}(0.0)  Gray{N0f8}(0.0)\n",
              " Gray{N0f8}(0.0)  Gray{N0f8}(0.0)     Gray{N0f8}(0.0)  Gray{N0f8}(0.0)"
            ]
          },
          "metadata": {
            "tags": []
          },
          "execution_count": 3
        }
      ]
    },
    {
      "cell_type": "code",
      "metadata": {
        "colab": {
          "base_uri": "https://localhost:8080/"
        },
        "id": "LzbgIqNNgI7B",
        "outputId": "e66f036e-533a-4988-d09f-545a74a271c4"
      },
      "source": [
        "# 一枚目の画像に描かれている数字\n",
        "train_t[1]"
      ],
      "execution_count": null,
      "outputs": [
        {
          "output_type": "execute_result",
          "data": {
            "text/plain": [
              "5"
            ]
          },
          "metadata": {
            "tags": []
          },
          "execution_count": 4
        }
      ]
    },
    {
      "cell_type": "markdown",
      "metadata": {
        "id": "us-E_6e99-hk"
      },
      "source": [
        "### 3.6.2 ニューラルネットワークの推論処理\n"
      ]
    },
    {
      "cell_type": "code",
      "metadata": {
        "colab": {
          "base_uri": "https://localhost:8080/"
        },
        "id": "9pth_HnfDV0W",
        "outputId": "65e30d41-6679-4948-905a-705d22d8d348"
      },
      "source": [
        "function get_data()\n",
        "    x_test, t_test = MNIST.testdata()\n",
        "    return x_test, t_test\n",
        "end\n",
        "\n",
        "using PyCall, HTTP\n",
        "@pyimport pickle\n",
        "function init_network()\n",
        "    return pickle.loads(HTTP.request(\"GET\", \"https://github.com/oreilly-japan/deep-learning-from-scratch/blob/master/ch03/sample_weight.pkl?raw=true\").body)\n",
        "end\n",
        "\n",
        "function predict(network, x)\n",
        "    W1, W2, W3 = network[\"W1\"], network[\"W2\"], network[\"W3\"]\n",
        "    b1, b2, b3 = network[\"b1\"], network[\"b2\"], network[\"b3\"]\n",
        "\n",
        "    a1 = x'*W1 + b1'\n",
        "    z1 = sigmoid.(a1)\n",
        "    a2 = z1*W2 + b2'\n",
        "    z2 = sigmoid.(a2)\n",
        "    a3 = z2*W3 + b3'\n",
        "    y = softmax(a3)\n",
        "\n",
        "    return y\n",
        "end\n",
        "\n",
        "sigmoid(x) = 1/(1 + exp(-x))\n",
        "softmax(a) = exp.(a.- maximum(a))/sum(exp.(a.- maximum(a)))"
      ],
      "execution_count": null,
      "outputs": [
        {
          "output_type": "execute_result",
          "data": {
            "text/plain": [
              "get_data (generic function with 1 method)"
            ]
          },
          "metadata": {
            "tags": []
          },
          "execution_count": 16
        }
      ]
    },
    {
      "cell_type": "code",
      "metadata": {
        "colab": {
          "base_uri": "https://localhost:8080/"
        },
        "id": "rWdRo6N-GhTO",
        "outputId": "39eaf5b9-a084-4724-b905-2b4f3b5b713b"
      },
      "source": [
        "x, t = get_data()\n",
        "x = (reshape(x, (784, :)))' #行列の演算の次元を合わせる\n",
        "network = init_network()\n",
        "\n",
        "accuracy_cnt = 0\n",
        "for i in 1:length(x[: ,1])\n",
        "    y = predict(network, x[i, :])\n",
        "    p = findmax(y)[2][2] -1  #(-1)はjuliaのインデックスが1から始まるため  \n",
        "\n",
        "    if p - t[i]< 0.5 && p - t[i]> -0.5\n",
        "        accuracy_cnt += 1\n",
        "    end\n",
        "end\n",
        "\n",
        "print(\"Accuracy: $(accuracy_cnt/length(x[:, 1]))\") # \"$<float,int>\"で数値を文章中”<文>”の間に入れられる。"
      ],
      "execution_count": null,
      "outputs": [
        {
          "output_type": "stream",
          "text": [
            "Accuracy: 0.9352"
          ],
          "name": "stdout"
        }
      ]
    },
    {
      "cell_type": "markdown",
      "metadata": {
        "id": "dpyTZJ0lE542"
      },
      "source": [
        "### 3.6.3 バッチ処理"
      ]
    },
    {
      "cell_type": "code",
      "metadata": {
        "colab": {
          "base_uri": "https://localhost:8080/"
        },
        "id": "lliuAcscDtWf",
        "outputId": "c9969f5c-c1f7-4a86-dfc0-f8efea9ee0a9"
      },
      "source": [
        "x, _ = get_data()\n",
        "x = (reshape(x, (784, :)))'\n",
        "\n",
        "network = init_network()\n",
        "W1, W2, W3 = network[\"W1\"], network[\"W2\"], network[\"W3\"]\n",
        "\n",
        "println(size((x[1, :])'))\n",
        "println(size(W1))\n",
        "println(size(W2))\n",
        "println(size(W3))"
      ],
      "execution_count": null,
      "outputs": [
        {
          "output_type": "stream",
          "text": [
            "(1, 784)\n",
            "(784, 50)\n",
            "(50, 100)\n",
            "(100, 10)\n"
          ],
          "name": "stdout"
        }
      ]
    },
    {
      "cell_type": "code",
      "metadata": {
        "id": "eUeyBB9UivJI",
        "colab": {
          "base_uri": "https://localhost:8080/"
        },
        "outputId": "b8b6f7d2-0e90-4fa7-eccd-9817023c6c6c"
      },
      "source": [
        "#　変更する関数はpredictのみ\n",
        "function predict_batch(network, x) #最初のｘの転置とバイアスの足し算のところの変更のみ\n",
        "    W1, W2, W3 = network[\"W1\"], network[\"W2\"], network[\"W3\"]\n",
        "    b1, b2, b3 = network[\"b1\"], network[\"b2\"], network[\"b3\"]\n",
        "\n",
        "    a1 = x*W1 .+ b1'    # x' -> x /# + -> .+\n",
        "    z1 = sigmoid.(a1)\n",
        "    a2 = z1*W2 .+ b2'   # + -> .+\n",
        "    z2 = sigmoid.(a2)\n",
        "    a3 = z2*W3 .+ b3'   # + -> .+\n",
        "    y = softmax(a3)\n",
        "\n",
        "    return y\n",
        "end"
      ],
      "execution_count": null,
      "outputs": [
        {
          "output_type": "execute_result",
          "data": {
            "text/plain": [
              "softmax (generic function with 1 method)"
            ]
          },
          "metadata": {
            "tags": []
          },
          "execution_count": 68
        }
      ]
    },
    {
      "cell_type": "code",
      "metadata": {
        "id": "BWEhF2OMhcE-",
        "colab": {
          "base_uri": "https://localhost:8080/"
        },
        "outputId": "7e9999c4-ef7a-44ae-f45d-6d66beda31e4"
      },
      "source": [
        "# 変更したところは、バッチ数のところとforの部分\n",
        "x, t = get_data()\n",
        "x = (reshape(x, (784, :)))' \n",
        "network = init_network()\n",
        "\n",
        "batch_size = 100 # バッチ数\n",
        "accuracy_cnt = 0\n",
        "\n",
        "for i in 1:batch_size:length(x[: ,1])  \n",
        "    x_batch = x[i:i+batch_size-1, : ]   \n",
        "    y_batch = predict_batch(network, x_batch)\n",
        "    p = [findmax(y_batch[j, :])[2]-1 for j in 1:batch_size]\n",
        "\n",
        "    accuracy_cnt += sum(p .== t[i:i+batch_size-1])\n",
        "end\n",
        "\n",
        "print(\"Accuracy: $(accuracy_cnt/length(x[:, 1]))\")"
      ],
      "execution_count": null,
      "outputs": [
        {
          "output_type": "stream",
          "text": [
            "Accuracy: 0.9352"
          ],
          "name": "stdout"
        }
      ]
    },
    {
      "cell_type": "markdown",
      "metadata": {
        "id": "4KwOaTOrwczn"
      },
      "source": [
        "おまけ\n",
        "\n",
        "batch処理で早くなっているの？"
      ]
    },
    {
      "cell_type": "code",
      "metadata": {
        "colab": {
          "base_uri": "https://localhost:8080/"
        },
        "id": "_qLPf6iulC5O",
        "outputId": "b42bc407-5e6d-4307-9a9b-48d448535c59"
      },
      "source": [
        "#no batch\n",
        "@time for i in 1:length(x[: ,1])\n",
        "    y = predict(network, x[i, :])\n",
        "    p = findmax(y)[2][2] -1   \n",
        "    if p - t[i]< 0.5 && p - t[i]> -0.5\n",
        "        accuracy_cnt += 1\n",
        "    end\n",
        "end"
      ],
      "execution_count": null,
      "outputs": [
        {
          "output_type": "stream",
          "text": [
            "  0.462155 seconds (307.96 k allocations: 71.390 MiB, 20.15% gc time)\n"
          ],
          "name": "stdout"
        }
      ]
    },
    {
      "cell_type": "code",
      "metadata": {
        "colab": {
          "base_uri": "https://localhost:8080/"
        },
        "id": "UELfc_8Ow3hI",
        "outputId": "b6d5bcc9-0f99-48cf-c0d3-0b1ad05cdb47"
      },
      "source": [
        "#batch\n",
        "batch_size = 100\n",
        "@time for i in 1:batch_size:length(x[: ,1])  \n",
        "    x_batch = x[i:i+batch_size-1, : ]   \n",
        "    y_batch = predict_batch(network, x_batch)\n",
        "    p = [findmax(y_batch[j, :])[2]-1 for j in 1:batch_size]\n",
        "\n",
        "    accuracy_cnt += sum(p .== t[i:i+batch_size-1])\n",
        "end"
      ],
      "execution_count": null,
      "outputs": [
        {
          "output_type": "stream",
          "text": [
            "  1.022489 seconds (4.88 k allocations: 26.793 MiB)\n"
          ],
          "name": "stdout"
        }
      ]
    },
    {
      "cell_type": "markdown",
      "metadata": {
        "id": "Ro4XahGAxBha"
      },
      "source": [
        "バッチ処理で遅くなっている（？）\n",
        "まだこの大きさの行列だと恩恵を受けていないのか"
      ]
    }
  ]
}