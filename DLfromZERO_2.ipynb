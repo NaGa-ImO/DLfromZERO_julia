{
  "nbformat": 4,
  "nbformat_minor": 0,
  "metadata": {
    "colab": {
      "name": "DLfromZERO_2.ipynb",
      "provenance": [],
      "collapsed_sections": [],
      "include_colab_link": true
    },
    "kernelspec": {
      "name": "julia-1.6",
      "display_name": "julia-1.6"
    }
  },
  "cells": [
    {
      "cell_type": "markdown",
      "metadata": {
        "id": "view-in-github",
        "colab_type": "text"
      },
      "source": [
        "<a href=\"https://colab.research.google.com/github/ioriNa/DLfromZERO_julia/blob/main/DLfromZERO_2.ipynb\" target=\"_parent\"><img src=\"https://colab.research.google.com/assets/colab-badge.svg\" alt=\"Open In Colab\"/></a>"
      ]
    },
    {
      "cell_type": "code",
      "metadata": {
        "id": "CN08w8uiICa8"
      },
      "source": [
        "!curl -sSL \"https://julialang-s3.julialang.org/bin/linux/x64/1.6/julia-1.6.1-linux-x86_64.tar.gz\" -o julia.tar.gz\n",
        "!tar -xzf julia.tar.gz -C /usr --strip-components 1\n",
        "!rm -rf julia.tar.gz*\n",
        "!julia -e 'using Pkg; pkg\"add IJulia\"'"
      ],
      "execution_count": null,
      "outputs": []
    },
    {
      "cell_type": "markdown",
      "metadata": {
        "id": "sGOaN98-IZxj"
      },
      "source": [
        "上記をshift+enterで実行後、「ランタイム」->「ランタイムのタイプを変更」->「保存」を押してください。"
      ]
    },
    {
      "cell_type": "code",
      "metadata": {
        "id": "ls5Cl0hsIndc",
        "colab": {
          "base_uri": "https://localhost:8080/"
        },
        "outputId": "4f35ec01-3258-42e9-c308-a62603eff5fb"
      },
      "source": [
        "versioninfo()"
      ],
      "execution_count": null,
      "outputs": [
        {
          "output_type": "stream",
          "text": [
            "Julia Version 1.6.1\n",
            "Commit 6aaedecc44 (2021-04-23 05:59 UTC)\n",
            "Platform Info:\n",
            "  OS: Linux (x86_64-pc-linux-gnu)\n",
            "  CPU: Intel(R) Xeon(R) CPU @ 2.30GHz\n",
            "  WORD_SIZE: 64\n",
            "  LIBM: libopenlibm\n",
            "  LLVM: libLLVM-11.0.1 (ORCJIT, haswell)\n"
          ],
          "name": "stdout"
        }
      ]
    },
    {
      "cell_type": "markdown",
      "metadata": {
        "id": "4NaEO9gN5pri"
      },
      "source": [
        "以上はcolabでjuliaを使うための設定。\n",
        "\n",
        "以下が「ゼロから作るDeep Learning」（２章）のコード（julia）のみ"
      ]
    },
    {
      "cell_type": "markdown",
      "metadata": {
        "id": "-ugodFvHy63u"
      },
      "source": [
        "# 2章　パーセプトロン"
      ]
    },
    {
      "cell_type": "markdown",
      "metadata": {
        "id": "ei4r96h5zFsR"
      },
      "source": [
        "## 2.3 パーセプトロンの実装\n",
        "### 2.3.1 簡単な実装"
      ]
    },
    {
      "cell_type": "code",
      "metadata": {
        "colab": {
          "base_uri": "https://localhost:8080/"
        },
        "id": "jdIIxD7My4f-",
        "outputId": "501ad17e-acb0-4aee-917f-30af3e8ae1a0"
      },
      "source": [
        "function AND(x1, x2)\n",
        "    w1, w2, theta = 0.5, 0.5, 0.7\n",
        "    tmp = x1*w1 + x2*w2\n",
        "    if tmp <= theta\n",
        "        return 0\n",
        "    else\n",
        "        return 1\n",
        "    end\n",
        "end"
      ],
      "execution_count": null,
      "outputs": [
        {
          "output_type": "execute_result",
          "data": {
            "text/plain": [
              "AND (generic function with 1 method)"
            ]
          },
          "metadata": {
            "tags": []
          },
          "execution_count": 2
        }
      ]
    },
    {
      "cell_type": "code",
      "metadata": {
        "colab": {
          "base_uri": "https://localhost:8080/"
        },
        "id": "uwGh7HO00aYq",
        "outputId": "5796291d-3d43-4388-80c8-3175f115ef83"
      },
      "source": [
        "println(AND(0,0))\n",
        "println(AND(0,1))\n",
        "println(AND(1,0))\n",
        "println(AND(1,1))"
      ],
      "execution_count": null,
      "outputs": [
        {
          "output_type": "stream",
          "text": [
            "0\n",
            "0\n",
            "0\n",
            "1\n"
          ],
          "name": "stdout"
        }
      ]
    },
    {
      "cell_type": "markdown",
      "metadata": {
        "id": "AsUTuJrx0wrO"
      },
      "source": [
        "### 2.3.2 重みとバイアスの導入"
      ]
    },
    {
      "cell_type": "code",
      "metadata": {
        "colab": {
          "base_uri": "https://localhost:8080/"
        },
        "id": "8Xn9sz6w0dYq",
        "outputId": "5b884cea-cd6f-401b-df0c-4a948438fbf7"
      },
      "source": [
        "x = [1, 1]\n",
        "w = [0.5, 0.5]\n",
        "b = - 0.7\n",
        "\n",
        "println(x.*w)\n",
        "println(sum(x.*w))\n",
        "println(sum(x.*w) + b)"
      ],
      "execution_count": null,
      "outputs": [
        {
          "output_type": "stream",
          "text": [
            "[0.5, 0.5]\n",
            "1.0\n",
            "0.30000000000000004\n"
          ],
          "name": "stdout"
        }
      ]
    },
    {
      "cell_type": "markdown",
      "metadata": {
        "id": "wmSotwui2kad"
      },
      "source": [
        "### 2.3.3 重みとバイアスによる実装"
      ]
    },
    {
      "cell_type": "code",
      "metadata": {
        "colab": {
          "base_uri": "https://localhost:8080/"
        },
        "id": "CIjMaJuX1Add",
        "outputId": "3242c397-4388-44ee-aa9f-824311ce3260"
      },
      "source": [
        "function AND(x1, x2)\n",
        "    x = [x1, x2]\n",
        "    w = [0.5, 0.5]\n",
        "    b = - 0.7\n",
        "\n",
        "    tmp = sum(x.*w) + b\n",
        "    if tmp <= 0\n",
        "        return 0\n",
        "    else\n",
        "        return 1\n",
        "    end\n",
        "end"
      ],
      "execution_count": null,
      "outputs": [
        {
          "output_type": "execute_result",
          "data": {
            "text/plain": [
              "AND (generic function with 1 method)"
            ]
          },
          "metadata": {
            "tags": []
          },
          "execution_count": 19
        }
      ]
    },
    {
      "cell_type": "code",
      "metadata": {
        "colab": {
          "base_uri": "https://localhost:8080/"
        },
        "id": "OElDulHw3ob7",
        "outputId": "bac045f4-a8f5-40da-f8ef-00777a74494c"
      },
      "source": [
        "println(AND(0,0))\n",
        "println(AND(0,1))\n",
        "println(AND(1,0))\n",
        "println(AND(1,1))"
      ],
      "execution_count": null,
      "outputs": [
        {
          "output_type": "stream",
          "text": [
            "0\n",
            "0\n",
            "0\n",
            "1\n"
          ],
          "name": "stdout"
        }
      ]
    },
    {
      "cell_type": "code",
      "metadata": {
        "colab": {
          "base_uri": "https://localhost:8080/"
        },
        "id": "cxTbdVYm3C26",
        "outputId": "ad4771f1-e804-4e6d-cbf6-7b84c1a3a670"
      },
      "source": [
        "function NAND(x1, x2)\n",
        "    x = [x1, x2]\n",
        "    w = [-0.5, -0.5]\n",
        "    b = 0.7\n",
        "\n",
        "    tmp = sum(x.*w) + b\n",
        "    if tmp <= 0\n",
        "        return 0\n",
        "    else\n",
        "        return 1\n",
        "    end\n",
        "end"
      ],
      "execution_count": null,
      "outputs": [
        {
          "output_type": "execute_result",
          "data": {
            "text/plain": [
              "NAND (generic function with 1 method)"
            ]
          },
          "metadata": {
            "tags": []
          },
          "execution_count": 21
        }
      ]
    },
    {
      "cell_type": "code",
      "metadata": {
        "colab": {
          "base_uri": "https://localhost:8080/"
        },
        "id": "J1Xln6-539_G",
        "outputId": "66c2a234-4eba-4fdc-9b2f-8fe8ae1a001a"
      },
      "source": [
        "println(NAND(0,0))\n",
        "println(NAND(0,1))\n",
        "println(NAND(1,0))\n",
        "println(NAND(1,1))"
      ],
      "execution_count": null,
      "outputs": [
        {
          "output_type": "stream",
          "text": [
            "1\n",
            "1\n",
            "1\n",
            "0\n"
          ],
          "name": "stdout"
        }
      ]
    },
    {
      "cell_type": "code",
      "metadata": {
        "colab": {
          "base_uri": "https://localhost:8080/"
        },
        "id": "NAyVr1W-4BWV",
        "outputId": "640233d5-9c63-4d31-dd71-d236f4e557fc"
      },
      "source": [
        "function OR(x1, x2)\n",
        "    x = [x1, x2]\n",
        "    w = [0.5, 0.5]\n",
        "    b = -0.2\n",
        "\n",
        "    tmp = sum(x.*w) + b\n",
        "    if tmp <= 0\n",
        "        return 0\n",
        "    else\n",
        "        return 1\n",
        "    end\n",
        "end"
      ],
      "execution_count": null,
      "outputs": [
        {
          "output_type": "execute_result",
          "data": {
            "text/plain": [
              "OR (generic function with 1 method)"
            ]
          },
          "metadata": {
            "tags": []
          },
          "execution_count": 23
        }
      ]
    },
    {
      "cell_type": "code",
      "metadata": {
        "colab": {
          "base_uri": "https://localhost:8080/"
        },
        "id": "cYle7L9V4LoG",
        "outputId": "cff3ad7f-e8c4-4d6b-8dd7-bce1af22f5bd"
      },
      "source": [
        "println(OR(0,0))\n",
        "println(OR(0,1))\n",
        "println(OR(1,0))\n",
        "println(OR(1,1))"
      ],
      "execution_count": null,
      "outputs": [
        {
          "output_type": "stream",
          "text": [
            "0\n",
            "1\n",
            "1\n",
            "1\n"
          ],
          "name": "stdout"
        }
      ]
    },
    {
      "cell_type": "markdown",
      "metadata": {
        "id": "ga-rjYJJ4d2M"
      },
      "source": [
        "## 2.5 多層パーセプトロン"
      ]
    },
    {
      "cell_type": "markdown",
      "metadata": {
        "id": "Pi9V1rog46Qu"
      },
      "source": [
        "### 2.5.2 XORゲートの実装"
      ]
    },
    {
      "cell_type": "code",
      "metadata": {
        "colab": {
          "base_uri": "https://localhost:8080/"
        },
        "id": "SbFUftHO4uEd",
        "outputId": "8c355156-ce66-442d-fdf5-f6e62c128bd9"
      },
      "source": [
        "function XOR(x1, x2)\n",
        "    s1 = NAND(x1, x2)\n",
        "    s2 = OR(x1, x2)\n",
        "    y = AND(s1, s2)\n",
        "    return y\n",
        "end"
      ],
      "execution_count": null,
      "outputs": [
        {
          "output_type": "execute_result",
          "data": {
            "text/plain": [
              "XOR (generic function with 1 method)"
            ]
          },
          "metadata": {
            "tags": []
          },
          "execution_count": 25
        }
      ]
    },
    {
      "cell_type": "code",
      "metadata": {
        "colab": {
          "base_uri": "https://localhost:8080/"
        },
        "id": "NIzV6X9s5fdR",
        "outputId": "1f80e2e9-72a9-4e9b-e637-52aada14dd03"
      },
      "source": [
        "println(XOR(0,0))\n",
        "println(XOR(0,1))\n",
        "println(XOR(1,0))\n",
        "println(XOR(1,1))"
      ],
      "execution_count": null,
      "outputs": [
        {
          "output_type": "stream",
          "text": [
            "0\n",
            "1\n",
            "1\n",
            "0\n"
          ],
          "name": "stdout"
        }
      ]
    },
    {
      "cell_type": "code",
      "metadata": {
        "id": "szK0ZCRq5jkz"
      },
      "source": [
        ""
      ],
      "execution_count": null,
      "outputs": []
    }
  ]
}